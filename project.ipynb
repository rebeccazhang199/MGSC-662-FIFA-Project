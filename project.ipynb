{
 "cells": [
  {
   "cell_type": "code",
   "execution_count": 1,
   "metadata": {},
   "outputs": [],
   "source": [
    "import gurobipy as gb\n",
    "from gurobipy import *\n",
    "import pandas as pd\n",
    "import numpy as np"
   ]
  },
  {
   "cell_type": "code",
   "execution_count": 61,
   "metadata": {},
   "outputs": [],
   "source": [
    "# Specify data types for problematic columns\n",
    "dtype_options = {'nation_position': 'str', 'nation_logo_url': 'str'}\n",
    "\n",
    "players = pd.read_csv('players_22.csv', dtype=dtype_options)"
   ]
  },
  {
   "cell_type": "code",
   "execution_count": 62,
   "metadata": {},
   "outputs": [
    {
     "data": {
      "text/plain": [
       "(19239, 110)"
      ]
     },
     "execution_count": 62,
     "metadata": {},
     "output_type": "execute_result"
    }
   ],
   "source": [
    "players.shape"
   ]
  },
  {
   "cell_type": "code",
   "execution_count": 58,
   "metadata": {},
   "outputs": [
    {
     "data": {
      "text/plain": [
       "pace                            2132\n",
       "shooting                        2132\n",
       "passing                         2132\n",
       "dribbling                       2132\n",
       "defending                       2132\n",
       "physic                          2132\n",
       "attacking_crossing                 0\n",
       "attacking_finishing                0\n",
       "attacking_heading_accuracy         0\n",
       "attacking_short_passing            0\n",
       "attacking_volleys                  0\n",
       "skill_dribbling                    0\n",
       "skill_curve                        0\n",
       "skill_fk_accuracy                  0\n",
       "skill_long_passing                 0\n",
       "skill_ball_control                 0\n",
       "movement_acceleration              0\n",
       "movement_sprint_speed              0\n",
       "movement_agility                   0\n",
       "movement_reactions                 0\n",
       "movement_balance                   0\n",
       "power_shot_power                   0\n",
       "power_jumping                      0\n",
       "power_stamina                      0\n",
       "power_strength                     0\n",
       "power_long_shots                   0\n",
       "mentality_aggression               0\n",
       "mentality_interceptions            0\n",
       "mentality_positioning              0\n",
       "mentality_vision                   0\n",
       "mentality_penalties                0\n",
       "mentality_composure                0\n",
       "defending_marking_awareness        0\n",
       "defending_standing_tackle          0\n",
       "defending_sliding_tackle           0\n",
       "goalkeeping_diving                 0\n",
       "goalkeeping_handling               0\n",
       "goalkeeping_kicking                0\n",
       "goalkeeping_positioning            0\n",
       "goalkeeping_reflexes               0\n",
       "goalkeeping_speed              17107\n",
       "dtype: int64"
      ]
     },
     "execution_count": 58,
     "metadata": {},
     "output_type": "execute_result"
    }
   ],
   "source": [
    "players.loc[:, 'pace': 'goalkeeping_speed'].isnull().sum()"
   ]
  },
  {
   "cell_type": "code",
   "execution_count": 59,
   "metadata": {},
   "outputs": [],
   "source": [
    "#players.dropna(subset=players.loc[:, 'pace': 'goalkeeping_reflexes'].columns, inplace=True)\n",
    "# We don't drop missing values because some missing values are associated with positions. For example, goalkeepers don't have scores for pace, shooting..."
   ]
  },
  {
   "cell_type": "code",
   "execution_count": 64,
   "metadata": {},
   "outputs": [
    {
     "data": {
      "text/plain": [
       "(19239, 110)"
      ]
     },
     "execution_count": 64,
     "metadata": {},
     "output_type": "execute_result"
    }
   ],
   "source": [
    "players.shape"
   ]
  },
  {
   "cell_type": "code",
   "execution_count": 65,
   "metadata": {},
   "outputs": [],
   "source": [
    "# Separate the position score columns, for example, column 'ls' with value '83+3' separates into column 'ls' with value 83 and column 'ls_potential' 3\n",
    "for col in players.loc[:, 'ls': 'gk'].columns:\n",
    "    # Extract the numbers using regular expressions and handle the case where the sign is not present\n",
    "    extracted_values = players[col].str.extract(r'(\\d+)([\\+\\-]?\\d*)')\n",
    "    # Separate the extracted values into two columns\n",
    "    players[[col, col+'_potential']] = extracted_values.apply(lambda x: pd.to_numeric(x, errors='coerce'))\n",
    "    # Fill missing values with 0 in the 'Value2' column\n",
    "    players[col+'_potential'].fillna(0, inplace=True)"
   ]
  },
  {
   "cell_type": "code",
   "execution_count": 68,
   "metadata": {},
   "outputs": [
    {
     "data": {
      "text/plain": [
       "0"
      ]
     },
     "execution_count": 68,
     "metadata": {},
     "output_type": "execute_result"
    }
   ],
   "source": [
    "players.dropna(subset=['club_position'], inplace=True)\n",
    "players['club_position'].isnull().sum()"
   ]
  },
  {
   "cell_type": "code",
   "execution_count": 69,
   "metadata": {},
   "outputs": [
    {
     "data": {
      "text/plain": [
       "Index(['sofifa_id', 'player_url', 'short_name', 'long_name',\n",
       "       'player_positions', 'overall', 'potential', 'value_eur', 'wage_eur',\n",
       "       'age',\n",
       "       ...\n",
       "       'club_position_RCM', 'club_position_RDM', 'club_position_RES',\n",
       "       'club_position_RF', 'club_position_RM', 'club_position_RS',\n",
       "       'club_position_RW', 'club_position_RWB', 'club_position_ST',\n",
       "       'club_position_SUB'],\n",
       "      dtype='object', length=165)"
      ]
     },
     "execution_count": 69,
     "metadata": {},
     "output_type": "execute_result"
    }
   ],
   "source": [
    "players = pd.get_dummies(data = players, columns = ['club_position'])\n",
    "players.columns"
   ]
  },
  {
   "cell_type": "code",
   "execution_count": 70,
   "metadata": {},
   "outputs": [
    {
     "data": {
      "text/plain": [
       "sofifa_id                        0\n",
       "player_url                       0\n",
       "short_name                       0\n",
       "long_name                        0\n",
       "player_positions                 0\n",
       "overall                          0\n",
       "potential                        0\n",
       "value_eur                        0\n",
       "wage_eur                         0\n",
       "age                              0\n",
       "dob                              0\n",
       "height_cm                        0\n",
       "weight_kg                        0\n",
       "club_team_id                     0\n",
       "club_name                        0\n",
       "league_name                      0\n",
       "league_level                     0\n",
       "club_jersey_number               0\n",
       "club_loaned_from               866\n",
       "club_joined                     31\n",
       "club_contract_valid_until        0\n",
       "nationality_id                   0\n",
       "nationality_name                 0\n",
       "nation_team_id                 874\n",
       "nation_position                874\n",
       "nation_jersey_number           874\n",
       "preferred_foot                   0\n",
       "weak_foot                        0\n",
       "skill_moves                      0\n",
       "international_reputation         0\n",
       "work_rate                        0\n",
       "body_type                        0\n",
       "real_face                        0\n",
       "release_clause_eur              31\n",
       "player_tags                    784\n",
       "player_traits                  407\n",
       "pace                            70\n",
       "shooting                        70\n",
       "passing                         70\n",
       "dribbling                       70\n",
       "defending                       70\n",
       "physic                          70\n",
       "attacking_crossing               0\n",
       "attacking_finishing              0\n",
       "attacking_heading_accuracy       0\n",
       "attacking_short_passing          0\n",
       "attacking_volleys                0\n",
       "skill_dribbling                  0\n",
       "skill_curve                      0\n",
       "skill_fk_accuracy                0\n",
       "skill_long_passing               0\n",
       "skill_ball_control               0\n",
       "movement_acceleration            0\n",
       "movement_sprint_speed            0\n",
       "movement_agility                 0\n",
       "movement_reactions               0\n",
       "movement_balance                 0\n",
       "power_shot_power                 0\n",
       "power_jumping                    0\n",
       "power_stamina                    0\n",
       "power_strength                   0\n",
       "power_long_shots                 0\n",
       "mentality_aggression             0\n",
       "mentality_interceptions          0\n",
       "mentality_positioning            0\n",
       "mentality_vision                 0\n",
       "mentality_penalties              0\n",
       "mentality_composure              0\n",
       "defending_marking_awareness      0\n",
       "defending_standing_tackle        0\n",
       "defending_sliding_tackle         0\n",
       "goalkeeping_diving               0\n",
       "goalkeeping_handling             0\n",
       "goalkeeping_kicking              0\n",
       "goalkeeping_positioning          0\n",
       "goalkeeping_reflexes             0\n",
       "goalkeeping_speed              827\n",
       "ls                               0\n",
       "st                               0\n",
       "rs                               0\n",
       "lw                               0\n",
       "lf                               0\n",
       "cf                               0\n",
       "rf                               0\n",
       "rw                               0\n",
       "lam                              0\n",
       "cam                              0\n",
       "ram                              0\n",
       "lm                               0\n",
       "lcm                              0\n",
       "cm                               0\n",
       "rcm                              0\n",
       "rm                               0\n",
       "lwb                              0\n",
       "ldm                              0\n",
       "cdm                              0\n",
       "rdm                              0\n",
       "rwb                              0\n",
       "lb                               0\n",
       "lcb                              0\n",
       "cb                               0\n",
       "rcb                              0\n",
       "rb                               0\n",
       "gk                               0\n",
       "player_face_url                  0\n",
       "club_logo_url                    0\n",
       "club_flag_url                    0\n",
       "nation_logo_url                874\n",
       "nation_flag_url                  0\n",
       "ls_potential                     0\n",
       "st_potential                     0\n",
       "rs_potential                     0\n",
       "lw_potential                     0\n",
       "lf_potential                     0\n",
       "cf_potential                     0\n",
       "rf_potential                     0\n",
       "rw_potential                     0\n",
       "lam_potential                    0\n",
       "cam_potential                    0\n",
       "ram_potential                    0\n",
       "lm_potential                     0\n",
       "lcm_potential                    0\n",
       "cm_potential                     0\n",
       "rcm_potential                    0\n",
       "rm_potential                     0\n",
       "lwb_potential                    0\n",
       "ldm_potential                    0\n",
       "cdm_potential                    0\n",
       "rdm_potential                    0\n",
       "rwb_potential                    0\n",
       "lb_potential                     0\n",
       "lcb_potential                    0\n",
       "cb_potential                     0\n",
       "rcb_potential                    0\n",
       "rb_potential                     0\n",
       "gk_potential                     0\n",
       "club_position_CAM                0\n",
       "club_position_CB                 0\n",
       "club_position_CDM                0\n",
       "club_position_CF                 0\n",
       "club_position_CM                 0\n",
       "club_position_GK                 0\n",
       "club_position_LAM                0\n",
       "club_position_LB                 0\n",
       "club_position_LCB                0\n",
       "club_position_LCM                0\n",
       "club_position_LDM                0\n",
       "club_position_LF                 0\n",
       "club_position_LM                 0\n",
       "club_position_LS                 0\n",
       "club_position_LW                 0\n",
       "club_position_LWB                0\n",
       "club_position_RAM                0\n",
       "club_position_RB                 0\n",
       "club_position_RCB                0\n",
       "club_position_RCM                0\n",
       "club_position_RDM                0\n",
       "club_position_RES                0\n",
       "club_position_RF                 0\n",
       "club_position_RM                 0\n",
       "club_position_RS                 0\n",
       "club_position_RW                 0\n",
       "club_position_RWB                0\n",
       "club_position_ST                 0\n",
       "club_position_SUB                0\n",
       "dtype: int64"
      ]
     },
     "execution_count": 70,
     "metadata": {},
     "output_type": "execute_result"
    }
   ],
   "source": [
    "players[players['nationality_name'] == 'Brazil'].isnull().sum()"
   ]
  },
  {
   "cell_type": "code",
   "execution_count": 71,
   "metadata": {},
   "outputs": [
    {
     "data": {
      "text/plain": [
       "(897, 165)"
      ]
     },
     "execution_count": 71,
     "metadata": {},
     "output_type": "execute_result"
    }
   ],
   "source": [
    "brazil_players = players[players['nationality_name'] == 'Brazil']\n",
    "brazil_players.shape"
   ]
  },
  {
   "cell_type": "code",
   "execution_count": 97,
   "metadata": {},
   "outputs": [
    {
     "name": "stdout",
     "output_type": "stream",
     "text": [
      "Gurobi Optimizer version 10.0.2 build v10.0.2rc0 (mac64[x86])\n",
      "\n",
      "CPU model: Intel(R) Core(TM) i5-5350U CPU @ 1.80GHz\n",
      "Thread count: 2 physical cores, 4 logical processors, using up to 4 threads\n",
      "\n",
      "Optimize a model with 11 rows, 897 columns and 1448 nonzeros\n",
      "Model fingerprint: 0x438f9e72\n",
      "Variable types: 0 continuous, 897 integer (897 binary)\n",
      "Coefficient statistics:\n",
      "  Matrix range     [1e+00, 1e+00]\n",
      "  Objective range  [5e+01, 9e+01]\n",
      "  Bounds range     [1e+00, 1e+00]\n",
      "  RHS range        [1e+00, 2e+01]\n",
      "Found heuristic solution: objective 1613.0000000\n",
      "Presolve removed 10 rows and 886 columns\n",
      "Presolve time: 0.01s\n",
      "Presolved: 1 rows, 11 columns, 11 nonzeros\n",
      "Found heuristic solution: objective 1874.0000000\n",
      "Variable types: 0 continuous, 11 integer (3 binary)\n",
      "\n",
      "Root relaxation: cutoff, 0 iterations, 0.00 seconds (0.00 work units)\n",
      "\n",
      "Explored 1 nodes (0 simplex iterations) in 0.06 seconds (0.00 work units)\n",
      "Thread count was 4 (of 4 available processors)\n",
      "\n",
      "Solution count 2: 1874 1613 \n",
      "\n",
      "Optimal solution found (tolerance 1.00e-04)\n",
      "Best objective 1.874000000000e+03, best bound 1.874000000000e+03, gap 0.0000%\n"
     ]
    }
   ],
   "source": [
    "id = np.array(brazil_players['sofifa_id'])\n",
    "n = len(id)\n",
    "\n",
    "model = gb.Model(\"World Cup Team Selection\")\n",
    "\n",
    "overall_score = np.array(brazil_players['overall'])\n",
    "# Goalkeepers\n",
    "goalkeeper = np.array(brazil_players['club_position_GK'])\n",
    "# Defenders\n",
    "center_back = np.array(brazil_players['club_position_CB'])\n",
    "left_back = np.array(brazil_players['club_position_LB'])\n",
    "right_back = np.array(brazil_players['club_position_RB'])\n",
    "# Midfielders\n",
    "central_mid = np.array(brazil_players['club_position_CM'])\n",
    "left_mid = np.array(brazil_players['club_position_LM'])\n",
    "right_mid = np.array(brazil_players['club_position_RM'])\n",
    "# Forwards\n",
    "striker = np.array(brazil_players['club_position_ST'])\n",
    "center_forward = np.array(brazil_players['club_position_CF'])\n",
    "# Substitute\n",
    "substitute = np.array(brazil_players['club_position_SUB'])\n",
    "\n",
    "# Add variables\n",
    "X = model.addVars(n, vtype=GRB.BINARY, name = [\"Player with ID = \"+str(i) for i in id])\n",
    "\n",
    "# Set Objective\n",
    "model.setObjective(sum(X[i]*overall_score[i] for i in range(n)), GRB.MAXIMIZE)\n",
    "\n",
    "# Add Constraints\n",
    "model.addConstr(sum(X[i] for i in range(n)) == 23)\n",
    "model.addConstr(sum(X[i]*substitute[i] for i in range(n)) == 12)\n",
    "\n",
    "model.addConstr(sum(X[i]*goalkeeper[i] for i in range(n)) == 1)\n",
    "model.addConstr(sum(X[i]*center_back[i] for i in range(n)) == 2)\n",
    "model.addConstr(sum(X[i]*left_back[i] for i in range(n)) == 1)\n",
    "model.addConstr(sum(X[i]*right_back[i] for i in range(n)) == 1)\n",
    "model.addConstr(sum(X[i]*central_mid[i] for i in range(n)) == 2)\n",
    "model.addConstr(sum(X[i]*left_mid[i] for i in range(n)) == 1)\n",
    "model.addConstr(sum(X[i]*right_mid[i] for i in range(n)) == 1)\n",
    "model.addConstr(sum(X[i]*striker[i] for i in range(n)) == 1)\n",
    "model.addConstr(sum(X[i]*center_forward[i] for i in range(n)) == 1)\n",
    "\n",
    "model.optimize()"
   ]
  },
  {
   "cell_type": "code",
   "execution_count": 104,
   "metadata": {},
   "outputs": [
    {
     "name": "stdout",
     "output_type": "stream",
     "text": [
      "Player with ID = 210257 is selected\n",
      "Player with ID = 164240 is selected\n",
      "Player with ID = 201942 is selected\n",
      "Player with ID = 207863 is selected\n",
      "Player with ID = 135507 is selected\n",
      "Player with ID = 191043 is selected\n",
      "Player with ID = 230658 is selected\n",
      "Player with ID = 230666 is selected\n",
      "Player with ID = 189242 is selected\n",
      "Player with ID = 194404 is selected\n",
      "Player with ID = 212462 is selected\n",
      "Player with ID = 231943 is selected\n",
      "Player with ID = 233419 is selected\n",
      "Player with ID = 199304 is selected\n",
      "Player with ID = 230294 is selected\n",
      "Player with ID = 251573 is selected\n",
      "Player with ID = 176676 is selected\n",
      "Player with ID = 201400 is selected\n",
      "Player with ID = 229927 is selected\n",
      "Player with ID = 238794 is selected\n",
      "Player with ID = 222715 is selected\n",
      "Player with ID = 239580 is selected\n",
      "Player with ID = 221540 is selected\n"
     ]
    }
   ],
   "source": [
    "# Players name are not printed because if we use short_name as varName, Gurobi has some problems to decode some special characters\n",
    "for v in model.getVars():\n",
    "    if v.x > 0:\n",
    "        print(v.varName, \"is selected\")"
   ]
  }
 ],
 "metadata": {
  "kernelspec": {
   "display_name": "base",
   "language": "python",
   "name": "python3"
  },
  "language_info": {
   "codemirror_mode": {
    "name": "ipython",
    "version": 3
   },
   "file_extension": ".py",
   "mimetype": "text/x-python",
   "name": "python",
   "nbconvert_exporter": "python",
   "pygments_lexer": "ipython3",
   "version": "3.11.3"
  }
 },
 "nbformat": 4,
 "nbformat_minor": 2
}
